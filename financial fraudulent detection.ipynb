{
 "cells": [
  {
   "cell_type": "code",
   "execution_count": 1,
   "id": "2e64f0aa",
   "metadata": {},
   "outputs": [],
   "source": [
    "import pandas as pd\n",
    "import numpy as np\n",
    "import matplotlib.pyplot as plt\n",
    "import seaborn as sns   \n",
    "\n",
    "import warnings \n",
    "warnings.simplefilter('ignore')"
   ]
  },
  {
   "cell_type": "code",
   "execution_count": 2,
   "id": "850c7956",
   "metadata": {},
   "outputs": [
    {
     "data": {
      "text/html": [
       "<div>\n",
       "<style scoped>\n",
       "    .dataframe tbody tr th:only-of-type {\n",
       "        vertical-align: middle;\n",
       "    }\n",
       "\n",
       "    .dataframe tbody tr th {\n",
       "        vertical-align: top;\n",
       "    }\n",
       "\n",
       "    .dataframe thead th {\n",
       "        text-align: right;\n",
       "    }\n",
       "</style>\n",
       "<table border=\"1\" class=\"dataframe\">\n",
       "  <thead>\n",
       "    <tr style=\"text-align: right;\">\n",
       "      <th></th>\n",
       "      <th>step</th>\n",
       "      <th>type</th>\n",
       "      <th>amount</th>\n",
       "      <th>nameOrig</th>\n",
       "      <th>oldbalanceOrg</th>\n",
       "      <th>newbalanceOrig</th>\n",
       "      <th>nameDest</th>\n",
       "      <th>oldbalanceDest</th>\n",
       "      <th>newbalanceDest</th>\n",
       "      <th>isFraud</th>\n",
       "      <th>isFlaggedFraud</th>\n",
       "    </tr>\n",
       "  </thead>\n",
       "  <tbody>\n",
       "    <tr>\n",
       "      <th>0</th>\n",
       "      <td>1</td>\n",
       "      <td>PAYMENT</td>\n",
       "      <td>9839.64</td>\n",
       "      <td>C1231006815</td>\n",
       "      <td>170136.0</td>\n",
       "      <td>160296.36</td>\n",
       "      <td>M1979787155</td>\n",
       "      <td>0.0</td>\n",
       "      <td>0.0</td>\n",
       "      <td>0</td>\n",
       "      <td>0</td>\n",
       "    </tr>\n",
       "    <tr>\n",
       "      <th>1</th>\n",
       "      <td>1</td>\n",
       "      <td>PAYMENT</td>\n",
       "      <td>1864.28</td>\n",
       "      <td>C1666544295</td>\n",
       "      <td>21249.0</td>\n",
       "      <td>19384.72</td>\n",
       "      <td>M2044282225</td>\n",
       "      <td>0.0</td>\n",
       "      <td>0.0</td>\n",
       "      <td>0</td>\n",
       "      <td>0</td>\n",
       "    </tr>\n",
       "    <tr>\n",
       "      <th>2</th>\n",
       "      <td>1</td>\n",
       "      <td>TRANSFER</td>\n",
       "      <td>181.00</td>\n",
       "      <td>C1305486145</td>\n",
       "      <td>181.0</td>\n",
       "      <td>0.00</td>\n",
       "      <td>C553264065</td>\n",
       "      <td>0.0</td>\n",
       "      <td>0.0</td>\n",
       "      <td>1</td>\n",
       "      <td>0</td>\n",
       "    </tr>\n",
       "    <tr>\n",
       "      <th>3</th>\n",
       "      <td>1</td>\n",
       "      <td>CASH_OUT</td>\n",
       "      <td>181.00</td>\n",
       "      <td>C840083671</td>\n",
       "      <td>181.0</td>\n",
       "      <td>0.00</td>\n",
       "      <td>C38997010</td>\n",
       "      <td>21182.0</td>\n",
       "      <td>0.0</td>\n",
       "      <td>1</td>\n",
       "      <td>0</td>\n",
       "    </tr>\n",
       "    <tr>\n",
       "      <th>4</th>\n",
       "      <td>1</td>\n",
       "      <td>PAYMENT</td>\n",
       "      <td>11668.14</td>\n",
       "      <td>C2048537720</td>\n",
       "      <td>41554.0</td>\n",
       "      <td>29885.86</td>\n",
       "      <td>M1230701703</td>\n",
       "      <td>0.0</td>\n",
       "      <td>0.0</td>\n",
       "      <td>0</td>\n",
       "      <td>0</td>\n",
       "    </tr>\n",
       "  </tbody>\n",
       "</table>\n",
       "</div>"
      ],
      "text/plain": [
       "   step      type    amount     nameOrig  oldbalanceOrg  newbalanceOrig  \\\n",
       "0     1   PAYMENT   9839.64  C1231006815       170136.0       160296.36   \n",
       "1     1   PAYMENT   1864.28  C1666544295        21249.0        19384.72   \n",
       "2     1  TRANSFER    181.00  C1305486145          181.0            0.00   \n",
       "3     1  CASH_OUT    181.00   C840083671          181.0            0.00   \n",
       "4     1   PAYMENT  11668.14  C2048537720        41554.0        29885.86   \n",
       "\n",
       "      nameDest  oldbalanceDest  newbalanceDest  isFraud  isFlaggedFraud  \n",
       "0  M1979787155             0.0             0.0        0               0  \n",
       "1  M2044282225             0.0             0.0        0               0  \n",
       "2   C553264065             0.0             0.0        1               0  \n",
       "3    C38997010         21182.0             0.0        1               0  \n",
       "4  M1230701703             0.0             0.0        0               0  "
      ]
     },
     "execution_count": 2,
     "metadata": {},
     "output_type": "execute_result"
    }
   ],
   "source": [
    "df=pd.read_csv(\"C:\\\\Users\\\\debad\\\\Downloads\\\\Fraud.csv\")\n",
    "df.head()"
   ]
  },
  {
   "cell_type": "code",
   "execution_count": 3,
   "id": "553d371f",
   "metadata": {},
   "outputs": [
    {
     "name": "stdout",
     "output_type": "stream",
     "text": [
      "<class 'pandas.core.frame.DataFrame'>\n",
      "RangeIndex: 6362620 entries, 0 to 6362619\n",
      "Data columns (total 11 columns):\n",
      " #   Column          Dtype  \n",
      "---  ------          -----  \n",
      " 0   step            int64  \n",
      " 1   type            object \n",
      " 2   amount          float64\n",
      " 3   nameOrig        object \n",
      " 4   oldbalanceOrg   float64\n",
      " 5   newbalanceOrig  float64\n",
      " 6   nameDest        object \n",
      " 7   oldbalanceDest  float64\n",
      " 8   newbalanceDest  float64\n",
      " 9   isFraud         int64  \n",
      " 10  isFlaggedFraud  int64  \n",
      "dtypes: float64(5), int64(3), object(3)\n",
      "memory usage: 534.0+ MB\n"
     ]
    }
   ],
   "source": [
    "df.info()"
   ]
  },
  {
   "cell_type": "code",
   "execution_count": 4,
   "id": "9d0032c1",
   "metadata": {},
   "outputs": [],
   "source": [
    "#In the given dataset , all the datatypes are in the proper format. "
   ]
  },
  {
   "cell_type": "code",
   "execution_count": 5,
   "id": "dd522017",
   "metadata": {},
   "outputs": [
    {
     "data": {
      "text/plain": [
       "step              0\n",
       "type              0\n",
       "amount            0\n",
       "nameOrig          0\n",
       "oldbalanceOrg     0\n",
       "newbalanceOrig    0\n",
       "nameDest          0\n",
       "oldbalanceDest    0\n",
       "newbalanceDest    0\n",
       "isFraud           0\n",
       "isFlaggedFraud    0\n",
       "dtype: int64"
      ]
     },
     "execution_count": 5,
     "metadata": {},
     "output_type": "execute_result"
    }
   ],
   "source": [
    "df.isnull().sum()"
   ]
  },
  {
   "cell_type": "code",
   "execution_count": 6,
   "id": "61a6d5b0",
   "metadata": {},
   "outputs": [],
   "source": [
    "#there is no null values."
   ]
  },
  {
   "cell_type": "code",
   "execution_count": 7,
   "id": "a5ca2862",
   "metadata": {},
   "outputs": [
    {
     "data": {
      "text/plain": [
       "CASH_OUT    2237500\n",
       "PAYMENT     2151495\n",
       "CASH_IN     1399284\n",
       "TRANSFER     532909\n",
       "DEBIT         41432\n",
       "Name: type, dtype: int64"
      ]
     },
     "execution_count": 7,
     "metadata": {},
     "output_type": "execute_result"
    }
   ],
   "source": [
    "df[\"type\"].value_counts()"
   ]
  },
  {
   "cell_type": "code",
   "execution_count": 8,
   "id": "8f511a09",
   "metadata": {},
   "outputs": [
    {
     "data": {
      "text/html": [
       "<div>\n",
       "<style scoped>\n",
       "    .dataframe tbody tr th:only-of-type {\n",
       "        vertical-align: middle;\n",
       "    }\n",
       "\n",
       "    .dataframe tbody tr th {\n",
       "        vertical-align: top;\n",
       "    }\n",
       "\n",
       "    .dataframe thead th {\n",
       "        text-align: right;\n",
       "    }\n",
       "</style>\n",
       "<table border=\"1\" class=\"dataframe\">\n",
       "  <thead>\n",
       "    <tr style=\"text-align: right;\">\n",
       "      <th></th>\n",
       "      <th>type</th>\n",
       "      <th>amount</th>\n",
       "      <th>oldbalanceOrg</th>\n",
       "      <th>newbalanceOrig</th>\n",
       "      <th>oldbalanceDest</th>\n",
       "      <th>newbalanceDest</th>\n",
       "      <th>isFraud</th>\n",
       "      <th>isFlaggedFraud</th>\n",
       "    </tr>\n",
       "  </thead>\n",
       "  <tbody>\n",
       "    <tr>\n",
       "      <th>0</th>\n",
       "      <td>PAYMENT</td>\n",
       "      <td>9839.64</td>\n",
       "      <td>170136.0</td>\n",
       "      <td>160296.36</td>\n",
       "      <td>0.0</td>\n",
       "      <td>0.0</td>\n",
       "      <td>0</td>\n",
       "      <td>0</td>\n",
       "    </tr>\n",
       "    <tr>\n",
       "      <th>1</th>\n",
       "      <td>PAYMENT</td>\n",
       "      <td>1864.28</td>\n",
       "      <td>21249.0</td>\n",
       "      <td>19384.72</td>\n",
       "      <td>0.0</td>\n",
       "      <td>0.0</td>\n",
       "      <td>0</td>\n",
       "      <td>0</td>\n",
       "    </tr>\n",
       "    <tr>\n",
       "      <th>2</th>\n",
       "      <td>TRANSFER</td>\n",
       "      <td>181.00</td>\n",
       "      <td>181.0</td>\n",
       "      <td>0.00</td>\n",
       "      <td>0.0</td>\n",
       "      <td>0.0</td>\n",
       "      <td>1</td>\n",
       "      <td>0</td>\n",
       "    </tr>\n",
       "    <tr>\n",
       "      <th>3</th>\n",
       "      <td>CASH_OUT</td>\n",
       "      <td>181.00</td>\n",
       "      <td>181.0</td>\n",
       "      <td>0.00</td>\n",
       "      <td>21182.0</td>\n",
       "      <td>0.0</td>\n",
       "      <td>1</td>\n",
       "      <td>0</td>\n",
       "    </tr>\n",
       "    <tr>\n",
       "      <th>4</th>\n",
       "      <td>PAYMENT</td>\n",
       "      <td>11668.14</td>\n",
       "      <td>41554.0</td>\n",
       "      <td>29885.86</td>\n",
       "      <td>0.0</td>\n",
       "      <td>0.0</td>\n",
       "      <td>0</td>\n",
       "      <td>0</td>\n",
       "    </tr>\n",
       "  </tbody>\n",
       "</table>\n",
       "</div>"
      ],
      "text/plain": [
       "       type    amount  oldbalanceOrg  newbalanceOrig  oldbalanceDest  \\\n",
       "0   PAYMENT   9839.64       170136.0       160296.36             0.0   \n",
       "1   PAYMENT   1864.28        21249.0        19384.72             0.0   \n",
       "2  TRANSFER    181.00          181.0            0.00             0.0   \n",
       "3  CASH_OUT    181.00          181.0            0.00         21182.0   \n",
       "4   PAYMENT  11668.14        41554.0        29885.86             0.0   \n",
       "\n",
       "   newbalanceDest  isFraud  isFlaggedFraud  \n",
       "0             0.0        0               0  \n",
       "1             0.0        0               0  \n",
       "2             0.0        1               0  \n",
       "3             0.0        1               0  \n",
       "4             0.0        0               0  "
      ]
     },
     "execution_count": 8,
     "metadata": {},
     "output_type": "execute_result"
    }
   ],
   "source": [
    "df.drop(columns=[\"step\",\"nameOrig\",\"nameDest\"],inplace=True)\n",
    "df.head()"
   ]
  },
  {
   "cell_type": "code",
   "execution_count": 9,
   "id": "bac3bfe7",
   "metadata": {},
   "outputs": [],
   "source": [
    "#I don't need these features as these features are not required for the given dataset."
   ]
  },
  {
   "cell_type": "code",
   "execution_count": 10,
   "id": "e12f7bc1",
   "metadata": {},
   "outputs": [
    {
     "data": {
      "text/plain": [
       "<Axes: >"
      ]
     },
     "execution_count": 10,
     "metadata": {},
     "output_type": "execute_result"
    },
    {
     "data": {
      "image/png": "[encoded data removed]",
      "text/plain": [
       "<Figure size 640x480 with 1 Axes>"
      ]
     },
     "metadata": {},
     "output_type": "display_data"
    }
   ],
   "source": [
    "df[[\"amount\",\"oldbalanceOrg\",\"newbalanceOrig\",\"oldbalanceDest\",\"newbalanceDest\"]].plot(kind=\"box\")\n"
   ]
  },
  {
   "cell_type": "code",
   "execution_count": 11,
   "id": "9756c879",
   "metadata": {},
   "outputs": [],
   "source": [
    "#as there are some outliers . I retrained the outlier."
   ]
  },
  {
   "cell_type": "code",
   "execution_count": 12,
   "id": "0eb7522a",
   "metadata": {},
   "outputs": [],
   "source": [
    "#in the dataset there are some skewed data.so I converted these skewed data to normal data by applying box-cox method."
   ]
  },
  {
   "cell_type": "code",
   "execution_count": 13,
   "id": "b7d1211d",
   "metadata": {},
   "outputs": [
    {
     "name": "stdout",
     "output_type": "stream",
     "text": [
      "30.99394948249038\n",
      "-0.01897116882745448\n",
      "5.249136420603121\n",
      "-0.2040328105478424\n",
      "5.176884001159233\n",
      "0.3077416938839443\n",
      "19.921757915791062\n",
      "-0.21127780463803456\n",
      "19.352302057660165\n",
      "-0.34336454885234335\n"
     ]
    }
   ],
   "source": [
    "from scipy import stats\n",
    "\n",
    "print(df[\"amount\"].skew())\n",
    "df[\"box_amount\"],param=stats.boxcox(df.amount+0.01)\n",
    "print(df[\"box_amount\"].skew())\n",
    "\n",
    "print(df[\"oldbalanceOrg\"].skew())\n",
    "df[\"box_oldbalanceOrg\"],param=stats.boxcox(df.oldbalanceOrg+0.01)\n",
    "print(df[\"box_oldbalanceOrg\"].skew())\n",
    "\n",
    "print(df[\"newbalanceOrig\"].skew())\n",
    "df[\"box_newbalanceOrig\"],param=stats.boxcox(df.newbalanceOrig+0.01)\n",
    "print(df[\"box_newbalanceOrig\"].skew())\n",
    "\n",
    "print(df[\"oldbalanceDest\"].skew())\n",
    "df[\"box_oldbalanceDest\"],param=stats.boxcox(df.oldbalanceDest+0.01)\n",
    "print(df[\"box_oldbalanceDest\"].skew())\n",
    "\n",
    "print(df[\"newbalanceDest\"].skew())\n",
    "df[\"box_newbalanceDest\"],param=stats.boxcox(df.newbalanceDest+0.01)\n",
    "print(df[\"box_newbalanceDest\"].skew())"
   ]
  },
  {
   "cell_type": "code",
   "execution_count": 14,
   "id": "8aefe6e1",
   "metadata": {},
   "outputs": [
    {
     "data": {
      "text/html": [
       "<div>\n",
       "<style scoped>\n",
       "    .dataframe tbody tr th:only-of-type {\n",
       "        vertical-align: middle;\n",
       "    }\n",
       "\n",
       "    .dataframe tbody tr th {\n",
       "        vertical-align: top;\n",
       "    }\n",
       "\n",
       "    .dataframe thead th {\n",
       "        text-align: right;\n",
       "    }\n",
       "</style>\n",
       "<table border=\"1\" class=\"dataframe\">\n",
       "  <thead>\n",
       "    <tr style=\"text-align: right;\">\n",
       "      <th></th>\n",
       "      <th>type</th>\n",
       "      <th>amount</th>\n",
       "      <th>oldbalanceOrg</th>\n",
       "      <th>newbalanceOrig</th>\n",
       "      <th>oldbalanceDest</th>\n",
       "      <th>newbalanceDest</th>\n",
       "      <th>isFraud</th>\n",
       "      <th>isFlaggedFraud</th>\n",
       "      <th>box_amount</th>\n",
       "      <th>box_oldbalanceOrg</th>\n",
       "      <th>box_newbalanceOrig</th>\n",
       "      <th>box_oldbalanceDest</th>\n",
       "      <th>box_newbalanceDest</th>\n",
       "    </tr>\n",
       "  </thead>\n",
       "  <tbody>\n",
       "    <tr>\n",
       "      <th>0</th>\n",
       "      <td>PAYMENT</td>\n",
       "      <td>9839.64</td>\n",
       "      <td>170136.0</td>\n",
       "      <td>160296.36</td>\n",
       "      <td>0.0</td>\n",
       "      <td>0.0</td>\n",
       "      <td>0</td>\n",
       "      <td>0</td>\n",
       "      <td>16.100764</td>\n",
       "      <td>16.813203</td>\n",
       "      <td>8.782110</td>\n",
       "      <td>-4.236069</td>\n",
       "      <td>-4.014057</td>\n",
       "    </tr>\n",
       "    <tr>\n",
       "      <th>1</th>\n",
       "      <td>PAYMENT</td>\n",
       "      <td>1864.28</td>\n",
       "      <td>21249.0</td>\n",
       "      <td>19384.72</td>\n",
       "      <td>0.0</td>\n",
       "      <td>0.0</td>\n",
       "      <td>0</td>\n",
       "      <td>0</td>\n",
       "      <td>11.839701</td>\n",
       "      <td>13.099428</td>\n",
       "      <td>7.621837</td>\n",
       "      <td>-4.236069</td>\n",
       "      <td>-4.014057</td>\n",
       "    </tr>\n",
       "    <tr>\n",
       "      <th>2</th>\n",
       "      <td>TRANSFER</td>\n",
       "      <td>181.00</td>\n",
       "      <td>181.0</td>\n",
       "      <td>0.00</td>\n",
       "      <td>0.0</td>\n",
       "      <td>0.0</td>\n",
       "      <td>1</td>\n",
       "      <td>0</td>\n",
       "      <td>7.060007</td>\n",
       "      <td>5.979102</td>\n",
       "      <td>-5.239437</td>\n",
       "      <td>-4.236069</td>\n",
       "      <td>-4.014057</td>\n",
       "    </tr>\n",
       "    <tr>\n",
       "      <th>3</th>\n",
       "      <td>CASH_OUT</td>\n",
       "      <td>181.00</td>\n",
       "      <td>181.0</td>\n",
       "      <td>0.00</td>\n",
       "      <td>21182.0</td>\n",
       "      <td>0.0</td>\n",
       "      <td>1</td>\n",
       "      <td>0</td>\n",
       "      <td>7.060007</td>\n",
       "      <td>5.979102</td>\n",
       "      <td>-5.239437</td>\n",
       "      <td>12.031806</td>\n",
       "      <td>-4.014057</td>\n",
       "    </tr>\n",
       "    <tr>\n",
       "      <th>4</th>\n",
       "      <td>PAYMENT</td>\n",
       "      <td>11668.14</td>\n",
       "      <td>41554.0</td>\n",
       "      <td>29885.86</td>\n",
       "      <td>0.0</td>\n",
       "      <td>0.0</td>\n",
       "      <td>0</td>\n",
       "      <td>0</td>\n",
       "      <td>16.584003</td>\n",
       "      <td>14.252640</td>\n",
       "      <td>7.870681</td>\n",
       "      <td>-4.236069</td>\n",
       "      <td>-4.014057</td>\n",
       "    </tr>\n",
       "  </tbody>\n",
       "</table>\n",
       "</div>"
      ],
      "text/plain": [
       "       type    amount  oldbalanceOrg  newbalanceOrig  oldbalanceDest  \\\n",
       "0   PAYMENT   9839.64       170136.0       160296.36             0.0   \n",
       "1   PAYMENT   1864.28        21249.0        19384.72             0.0   \n",
       "2  TRANSFER    181.00          181.0            0.00             0.0   \n",
       "3  CASH_OUT    181.00          181.0            0.00         21182.0   \n",
       "4   PAYMENT  11668.14        41554.0        29885.86             0.0   \n",
       "\n",
       "   newbalanceDest  isFraud  isFlaggedFraud  box_amount  box_oldbalanceOrg  \\\n",
       "0             0.0        0               0   16.100764          16.813203   \n",
       "1             0.0        0               0   11.839701          13.099428   \n",
       "2             0.0        1               0    7.060007           5.979102   \n",
       "3             0.0        1               0    7.060007           5.979102   \n",
       "4             0.0        0               0   16.584003          14.252640   \n",
       "\n",
       "   box_newbalanceOrig  box_oldbalanceDest  box_newbalanceDest  \n",
       "0            8.782110           -4.236069           -4.014057  \n",
       "1            7.621837           -4.236069           -4.014057  \n",
       "2           -5.239437           -4.236069           -4.014057  \n",
       "3           -5.239437           12.031806           -4.014057  \n",
       "4            7.870681           -4.236069           -4.014057  "
      ]
     },
     "execution_count": 14,
     "metadata": {},
     "output_type": "execute_result"
    }
   ],
   "source": [
    "df.head()"
   ]
  },
  {
   "cell_type": "code",
   "execution_count": 15,
   "id": "a71646ad",
   "metadata": {},
   "outputs": [
    {
     "data": {
      "text/html": [
       "<div>\n",
       "<style scoped>\n",
       "    .dataframe tbody tr th:only-of-type {\n",
       "        vertical-align: middle;\n",
       "    }\n",
       "\n",
       "    .dataframe tbody tr th {\n",
       "        vertical-align: top;\n",
       "    }\n",
       "\n",
       "    .dataframe thead th {\n",
       "        text-align: right;\n",
       "    }\n",
       "</style>\n",
       "<table border=\"1\" class=\"dataframe\">\n",
       "  <thead>\n",
       "    <tr style=\"text-align: right;\">\n",
       "      <th></th>\n",
       "      <th>type</th>\n",
       "      <th>box_amount</th>\n",
       "      <th>box_oldbalanceOrg</th>\n",
       "      <th>box_newbalanceOrig</th>\n",
       "      <th>box_oldbalanceDest</th>\n",
       "      <th>box_newbalanceDest</th>\n",
       "      <th>isFraud</th>\n",
       "      <th>isFlaggedFraud</th>\n",
       "    </tr>\n",
       "  </thead>\n",
       "  <tbody>\n",
       "    <tr>\n",
       "      <th>0</th>\n",
       "      <td>PAYMENT</td>\n",
       "      <td>16.100764</td>\n",
       "      <td>16.813203</td>\n",
       "      <td>8.782110</td>\n",
       "      <td>-4.236069</td>\n",
       "      <td>-4.014057</td>\n",
       "      <td>0</td>\n",
       "      <td>0</td>\n",
       "    </tr>\n",
       "    <tr>\n",
       "      <th>1</th>\n",
       "      <td>PAYMENT</td>\n",
       "      <td>11.839701</td>\n",
       "      <td>13.099428</td>\n",
       "      <td>7.621837</td>\n",
       "      <td>-4.236069</td>\n",
       "      <td>-4.014057</td>\n",
       "      <td>0</td>\n",
       "      <td>0</td>\n",
       "    </tr>\n",
       "    <tr>\n",
       "      <th>2</th>\n",
       "      <td>TRANSFER</td>\n",
       "      <td>7.060007</td>\n",
       "      <td>5.979102</td>\n",
       "      <td>-5.239437</td>\n",
       "      <td>-4.236069</td>\n",
       "      <td>-4.014057</td>\n",
       "      <td>1</td>\n",
       "      <td>0</td>\n",
       "    </tr>\n",
       "    <tr>\n",
       "      <th>3</th>\n",
       "      <td>CASH_OUT</td>\n",
       "      <td>7.060007</td>\n",
       "      <td>5.979102</td>\n",
       "      <td>-5.239437</td>\n",
       "      <td>12.031806</td>\n",
       "      <td>-4.014057</td>\n",
       "      <td>1</td>\n",
       "      <td>0</td>\n",
       "    </tr>\n",
       "    <tr>\n",
       "      <th>4</th>\n",
       "      <td>PAYMENT</td>\n",
       "      <td>16.584003</td>\n",
       "      <td>14.252640</td>\n",
       "      <td>7.870681</td>\n",
       "      <td>-4.236069</td>\n",
       "      <td>-4.014057</td>\n",
       "      <td>0</td>\n",
       "      <td>0</td>\n",
       "    </tr>\n",
       "  </tbody>\n",
       "</table>\n",
       "</div>"
      ],
      "text/plain": [
       "       type  box_amount  box_oldbalanceOrg  box_newbalanceOrig  \\\n",
       "0   PAYMENT   16.100764          16.813203            8.782110   \n",
       "1   PAYMENT   11.839701          13.099428            7.621837   \n",
       "2  TRANSFER    7.060007           5.979102           -5.239437   \n",
       "3  CASH_OUT    7.060007           5.979102           -5.239437   \n",
       "4   PAYMENT   16.584003          14.252640            7.870681   \n",
       "\n",
       "   box_oldbalanceDest  box_newbalanceDest  isFraud  isFlaggedFraud  \n",
       "0           -4.236069           -4.014057        0               0  \n",
       "1           -4.236069           -4.014057        0               0  \n",
       "2           -4.236069           -4.014057        1               0  \n",
       "3           12.031806           -4.014057        1               0  \n",
       "4           -4.236069           -4.014057        0               0  "
      ]
     },
     "execution_count": 15,
     "metadata": {},
     "output_type": "execute_result"
    }
   ],
   "source": [
    "#I gave the feature name according to my understanding after transformation.I took only these features as these features contained normal data.\n",
    "\n",
    "df1=df[[\"type\",\"box_amount\",\"box_oldbalanceOrg\",\"box_newbalanceOrig\",\"box_oldbalanceDest\",\"box_newbalanceDest\",\"isFraud\",\"isFlaggedFraud\"]]\n",
    "df1.head()"
   ]
  },
  {
   "cell_type": "code",
   "execution_count": 16,
   "id": "bdbb1f1d",
   "metadata": {},
   "outputs": [],
   "source": [
    "#as I have categorical data in 'type' features , I encoded it . Then dropped the original 'type'."
   ]
  },
  {
   "cell_type": "code",
   "execution_count": 17,
   "id": "28cbebaf",
   "metadata": {},
   "outputs": [
    {
     "data": {
      "text/html": [
       "<div>\n",
       "<style scoped>\n",
       "    .dataframe tbody tr th:only-of-type {\n",
       "        vertical-align: middle;\n",
       "    }\n",
       "\n",
       "    .dataframe tbody tr th {\n",
       "        vertical-align: top;\n",
       "    }\n",
       "\n",
       "    .dataframe thead th {\n",
       "        text-align: right;\n",
       "    }\n",
       "</style>\n",
       "<table border=\"1\" class=\"dataframe\">\n",
       "  <thead>\n",
       "    <tr style=\"text-align: right;\">\n",
       "      <th></th>\n",
       "      <th>box_amount</th>\n",
       "      <th>box_oldbalanceOrg</th>\n",
       "      <th>box_newbalanceOrig</th>\n",
       "      <th>box_oldbalanceDest</th>\n",
       "      <th>box_newbalanceDest</th>\n",
       "      <th>isFraud</th>\n",
       "      <th>isFlaggedFraud</th>\n",
       "      <th>type_l</th>\n",
       "    </tr>\n",
       "  </thead>\n",
       "  <tbody>\n",
       "    <tr>\n",
       "      <th>0</th>\n",
       "      <td>16.100764</td>\n",
       "      <td>16.813203</td>\n",
       "      <td>8.782110</td>\n",
       "      <td>-4.236069</td>\n",
       "      <td>-4.014057</td>\n",
       "      <td>0</td>\n",
       "      <td>0</td>\n",
       "      <td>3</td>\n",
       "    </tr>\n",
       "    <tr>\n",
       "      <th>1</th>\n",
       "      <td>11.839701</td>\n",
       "      <td>13.099428</td>\n",
       "      <td>7.621837</td>\n",
       "      <td>-4.236069</td>\n",
       "      <td>-4.014057</td>\n",
       "      <td>0</td>\n",
       "      <td>0</td>\n",
       "      <td>3</td>\n",
       "    </tr>\n",
       "    <tr>\n",
       "      <th>2</th>\n",
       "      <td>7.060007</td>\n",
       "      <td>5.979102</td>\n",
       "      <td>-5.239437</td>\n",
       "      <td>-4.236069</td>\n",
       "      <td>-4.014057</td>\n",
       "      <td>1</td>\n",
       "      <td>0</td>\n",
       "      <td>4</td>\n",
       "    </tr>\n",
       "    <tr>\n",
       "      <th>3</th>\n",
       "      <td>7.060007</td>\n",
       "      <td>5.979102</td>\n",
       "      <td>-5.239437</td>\n",
       "      <td>12.031806</td>\n",
       "      <td>-4.014057</td>\n",
       "      <td>1</td>\n",
       "      <td>0</td>\n",
       "      <td>1</td>\n",
       "    </tr>\n",
       "    <tr>\n",
       "      <th>4</th>\n",
       "      <td>16.584003</td>\n",
       "      <td>14.252640</td>\n",
       "      <td>7.870681</td>\n",
       "      <td>-4.236069</td>\n",
       "      <td>-4.014057</td>\n",
       "      <td>0</td>\n",
       "      <td>0</td>\n",
       "      <td>3</td>\n",
       "    </tr>\n",
       "  </tbody>\n",
       "</table>\n",
       "</div>"
      ],
      "text/plain": [
       "   box_amount  box_oldbalanceOrg  box_newbalanceOrig  box_oldbalanceDest  \\\n",
       "0   16.100764          16.813203            8.782110           -4.236069   \n",
       "1   11.839701          13.099428            7.621837           -4.236069   \n",
       "2    7.060007           5.979102           -5.239437           -4.236069   \n",
       "3    7.060007           5.979102           -5.239437           12.031806   \n",
       "4   16.584003          14.252640            7.870681           -4.236069   \n",
       "\n",
       "   box_newbalanceDest  isFraud  isFlaggedFraud  type_l  \n",
       "0           -4.014057        0               0       3  \n",
       "1           -4.014057        0               0       3  \n",
       "2           -4.014057        1               0       4  \n",
       "3           -4.014057        1               0       1  \n",
       "4           -4.014057        0               0       3  "
      ]
     },
     "execution_count": 17,
     "metadata": {},
     "output_type": "execute_result"
    }
   ],
   "source": [
    "#encoding type\n",
    "from sklearn.preprocessing import LabelEncoder\n",
    "le=LabelEncoder()\n",
    "df1[\"type_l\"]=le.fit_transform(df1[[\"type\"]])\n",
    "df1.drop(columns=[\"type\"],inplace=True)\n",
    "df1.head()"
   ]
  },
  {
   "cell_type": "code",
   "execution_count": 18,
   "id": "5c60105d",
   "metadata": {},
   "outputs": [
    {
     "data": {
      "text/html": [
       "<div>\n",
       "<style scoped>\n",
       "    .dataframe tbody tr th:only-of-type {\n",
       "        vertical-align: middle;\n",
       "    }\n",
       "\n",
       "    .dataframe tbody tr th {\n",
       "        vertical-align: top;\n",
       "    }\n",
       "\n",
       "    .dataframe thead th {\n",
       "        text-align: right;\n",
       "    }\n",
       "</style>\n",
       "<table border=\"1\" class=\"dataframe\">\n",
       "  <thead>\n",
       "    <tr style=\"text-align: right;\">\n",
       "      <th></th>\n",
       "      <th>box_amount</th>\n",
       "      <th>box_oldbalanceOrg</th>\n",
       "      <th>box_newbalanceOrig</th>\n",
       "      <th>box_oldbalanceDest</th>\n",
       "      <th>box_newbalanceDest</th>\n",
       "      <th>isFraud</th>\n",
       "      <th>isFlaggedFraud</th>\n",
       "      <th>type_l</th>\n",
       "    </tr>\n",
       "  </thead>\n",
       "  <tbody>\n",
       "    <tr>\n",
       "      <th>box_amount</th>\n",
       "      <td>1.000000</td>\n",
       "      <td>0.037840</td>\n",
       "      <td>-0.166642</td>\n",
       "      <td>0.610713</td>\n",
       "      <td>0.688687</td>\n",
       "      <td>0.048431</td>\n",
       "      <td>0.004646</td>\n",
       "      <td>-0.339704</td>\n",
       "    </tr>\n",
       "    <tr>\n",
       "      <th>box_oldbalanceOrg</th>\n",
       "      <td>0.037840</td>\n",
       "      <td>1.000000</td>\n",
       "      <td>0.742344</td>\n",
       "      <td>0.018322</td>\n",
       "      <td>0.029077</td>\n",
       "      <td>0.034589</td>\n",
       "      <td>0.002333</td>\n",
       "      <td>-0.326666</td>\n",
       "    </tr>\n",
       "    <tr>\n",
       "      <th>box_newbalanceOrig</th>\n",
       "      <td>-0.166642</td>\n",
       "      <td>0.742344</td>\n",
       "      <td>1.000000</td>\n",
       "      <td>-0.030021</td>\n",
       "      <td>-0.157202</td>\n",
       "      <td>-0.029650</td>\n",
       "      <td>0.002127</td>\n",
       "      <td>-0.321533</td>\n",
       "    </tr>\n",
       "    <tr>\n",
       "      <th>box_oldbalanceDest</th>\n",
       "      <td>0.610713</td>\n",
       "      <td>0.018322</td>\n",
       "      <td>-0.030021</td>\n",
       "      <td>1.000000</td>\n",
       "      <td>0.881880</td>\n",
       "      <td>-0.017257</td>\n",
       "      <td>-0.001815</td>\n",
       "      <td>-0.545224</td>\n",
       "    </tr>\n",
       "    <tr>\n",
       "      <th>box_newbalanceDest</th>\n",
       "      <td>0.688687</td>\n",
       "      <td>0.029077</td>\n",
       "      <td>-0.157202</td>\n",
       "      <td>0.881880</td>\n",
       "      <td>1.000000</td>\n",
       "      <td>-0.007412</td>\n",
       "      <td>-0.001965</td>\n",
       "      <td>-0.506874</td>\n",
       "    </tr>\n",
       "    <tr>\n",
       "      <th>isFraud</th>\n",
       "      <td>0.048431</td>\n",
       "      <td>0.034589</td>\n",
       "      <td>-0.029650</td>\n",
       "      <td>-0.017257</td>\n",
       "      <td>-0.007412</td>\n",
       "      <td>1.000000</td>\n",
       "      <td>0.044109</td>\n",
       "      <td>0.020833</td>\n",
       "    </tr>\n",
       "    <tr>\n",
       "      <th>isFlaggedFraud</th>\n",
       "      <td>0.004646</td>\n",
       "      <td>0.002333</td>\n",
       "      <td>0.002127</td>\n",
       "      <td>-0.001815</td>\n",
       "      <td>-0.001965</td>\n",
       "      <td>0.044109</td>\n",
       "      <td>1.000000</td>\n",
       "      <td>0.002685</td>\n",
       "    </tr>\n",
       "    <tr>\n",
       "      <th>type_l</th>\n",
       "      <td>-0.339704</td>\n",
       "      <td>-0.326666</td>\n",
       "      <td>-0.321533</td>\n",
       "      <td>-0.545224</td>\n",
       "      <td>-0.506874</td>\n",
       "      <td>0.020833</td>\n",
       "      <td>0.002685</td>\n",
       "      <td>1.000000</td>\n",
       "    </tr>\n",
       "  </tbody>\n",
       "</table>\n",
       "</div>"
      ],
      "text/plain": [
       "                    box_amount  box_oldbalanceOrg  box_newbalanceOrig  \\\n",
       "box_amount            1.000000           0.037840           -0.166642   \n",
       "box_oldbalanceOrg     0.037840           1.000000            0.742344   \n",
       "box_newbalanceOrig   -0.166642           0.742344            1.000000   \n",
       "box_oldbalanceDest    0.610713           0.018322           -0.030021   \n",
       "box_newbalanceDest    0.688687           0.029077           -0.157202   \n",
       "isFraud               0.048431           0.034589           -0.029650   \n",
       "isFlaggedFraud        0.004646           0.002333            0.002127   \n",
       "type_l               -0.339704          -0.326666           -0.321533   \n",
       "\n",
       "                    box_oldbalanceDest  box_newbalanceDest   isFraud  \\\n",
       "box_amount                    0.610713            0.688687  0.048431   \n",
       "box_oldbalanceOrg             0.018322            0.029077  0.034589   \n",
       "box_newbalanceOrig           -0.030021           -0.157202 -0.029650   \n",
       "box_oldbalanceDest            1.000000            0.881880 -0.017257   \n",
       "box_newbalanceDest            0.881880            1.000000 -0.007412   \n",
       "isFraud                      -0.017257           -0.007412  1.000000   \n",
       "isFlaggedFraud               -0.001815           -0.001965  0.044109   \n",
       "type_l                       -0.545224           -0.506874  0.020833   \n",
       "\n",
       "                    isFlaggedFraud    type_l  \n",
       "box_amount                0.004646 -0.339704  \n",
       "box_oldbalanceOrg         0.002333 -0.326666  \n",
       "box_newbalanceOrig        0.002127 -0.321533  \n",
       "box_oldbalanceDest       -0.001815 -0.545224  \n",
       "box_newbalanceDest       -0.001965 -0.506874  \n",
       "isFraud                   0.044109  0.020833  \n",
       "isFlaggedFraud            1.000000  0.002685  \n",
       "type_l                    0.002685  1.000000  "
      ]
     },
     "execution_count": 18,
     "metadata": {},
     "output_type": "execute_result"
    }
   ],
   "source": [
    "#I check the correalation between the independent features\n",
    "df1.corr()\n",
    "\n",
    "\n",
    "#and yes there is multicollenearity problem . so I go through VIF to check the features which have maximum VIF"
   ]
  },
  {
   "cell_type": "code",
   "execution_count": 19,
   "id": "e2711f86",
   "metadata": {},
   "outputs": [
    {
     "data": {
      "text/html": [
       "<div>\n",
       "<style scoped>\n",
       "    .dataframe tbody tr th:only-of-type {\n",
       "        vertical-align: middle;\n",
       "    }\n",
       "\n",
       "    .dataframe tbody tr th {\n",
       "        vertical-align: top;\n",
       "    }\n",
       "\n",
       "    .dataframe thead th {\n",
       "        text-align: right;\n",
       "    }\n",
       "</style>\n",
       "<table border=\"1\" class=\"dataframe\">\n",
       "  <thead>\n",
       "    <tr style=\"text-align: right;\">\n",
       "      <th></th>\n",
       "      <th>variables</th>\n",
       "      <th>vif</th>\n",
       "    </tr>\n",
       "  </thead>\n",
       "  <tbody>\n",
       "    <tr>\n",
       "      <th>0</th>\n",
       "      <td>newbalanceOrig</td>\n",
       "      <td>2.872853</td>\n",
       "    </tr>\n",
       "    <tr>\n",
       "      <th>1</th>\n",
       "      <td>oldbalanceOrg</td>\n",
       "      <td>2.634177</td>\n",
       "    </tr>\n",
       "    <tr>\n",
       "      <th>2</th>\n",
       "      <td>oldbalanceDest</td>\n",
       "      <td>5.263859</td>\n",
       "    </tr>\n",
       "    <tr>\n",
       "      <th>3</th>\n",
       "      <td>newbalanceDest</td>\n",
       "      <td>5.651484</td>\n",
       "    </tr>\n",
       "    <tr>\n",
       "      <th>4</th>\n",
       "      <td>amount</td>\n",
       "      <td>1.916620</td>\n",
       "    </tr>\n",
       "  </tbody>\n",
       "</table>\n",
       "</div>"
      ],
      "text/plain": [
       "        variables       vif\n",
       "0  newbalanceOrig  2.872853\n",
       "1   oldbalanceOrg  2.634177\n",
       "2  oldbalanceDest  5.263859\n",
       "3  newbalanceDest  5.651484\n",
       "4          amount  1.916620"
      ]
     },
     "execution_count": 19,
     "metadata": {},
     "output_type": "execute_result"
    }
   ],
   "source": [
    "#checking vif\n",
    "import statsmodels.formula.api as smf\n",
    "rsq_box_newbalanceOrig = smf.ols('box_newbalanceOrig~box_oldbalanceOrg+\tbox_oldbalanceDest+box_newbalanceDest+box_amount',data=df).fit().rsquared\n",
    "vif_box_newbalanceOrig= 1/(1-rsq_box_newbalanceOrig)\n",
    "\n",
    "rsq_box_oldbalanceOrg = smf.ols('box_oldbalanceOrg~box_newbalanceOrig+box_oldbalanceDest+box_newbalanceDest+box_amount',data=df).fit().rsquared\n",
    "vif_box_oldbalanceOrg=1/(1-rsq_box_oldbalanceOrg)\n",
    "\n",
    "rsq_box_oldbalanceDest= smf.ols('box_oldbalanceDest~box_newbalanceOrig+box_oldbalanceOrg+box_newbalanceDest+box_amount',data=df).fit().rsquared\n",
    "vif_box_oldbalanceDest=1/(1-rsq_box_oldbalanceDest)\n",
    "\n",
    "rsq_box_newbalanceDest=smf.ols('box_newbalanceDest~box_newbalanceOrig+box_oldbalanceDest+box_oldbalanceDest+box_amount',data=df).fit().rsquared\n",
    "vif_box_newbalanceDest=1/(1-rsq_box_newbalanceDest)\n",
    "\n",
    "rsq_box_amount=smf.ols('box_amount~box_newbalanceOrig+box_oldbalanceDest+box_newbalanceDest+box_newbalanceDest',data=df).fit().rsquared\n",
    "vif_box_amount=1/(1-rsq_box_amount)\n",
    "\n",
    "vif_frame=pd.DataFrame({'variables':['newbalanceOrig','oldbalanceOrg','oldbalanceDest','newbalanceDest','amount'],'vif':[vif_box_newbalanceOrig,vif_box_oldbalanceOrg,vif_box_oldbalanceDest,vif_box_newbalanceDest,vif_box_amount]})\n",
    "vif_frame"
   ]
  },
  {
   "cell_type": "code",
   "execution_count": 20,
   "id": "955155d9",
   "metadata": {},
   "outputs": [],
   "source": [
    "#according to the VIF these features have maximum VIF > 4. So I drop these features.\n",
    "X=df1.drop([\"isFraud\",\"box_newbalanceDest\",\"box_oldbalanceDest\"],axis=1)\n",
    "y=df1[\"isFraud\"]"
   ]
  },
  {
   "cell_type": "code",
   "execution_count": 21,
   "id": "9cd77641",
   "metadata": {},
   "outputs": [
    {
     "data": {
      "text/html": [
       "<div>\n",
       "<style scoped>\n",
       "    .dataframe tbody tr th:only-of-type {\n",
       "        vertical-align: middle;\n",
       "    }\n",
       "\n",
       "    .dataframe tbody tr th {\n",
       "        vertical-align: top;\n",
       "    }\n",
       "\n",
       "    .dataframe thead th {\n",
       "        text-align: right;\n",
       "    }\n",
       "</style>\n",
       "<table border=\"1\" class=\"dataframe\">\n",
       "  <thead>\n",
       "    <tr style=\"text-align: right;\">\n",
       "      <th></th>\n",
       "      <th>box_amount</th>\n",
       "      <th>box_oldbalanceOrg</th>\n",
       "      <th>box_newbalanceOrig</th>\n",
       "      <th>isFlaggedFraud</th>\n",
       "      <th>type_l</th>\n",
       "    </tr>\n",
       "  </thead>\n",
       "  <tbody>\n",
       "    <tr>\n",
       "      <th>0</th>\n",
       "      <td>16.100764</td>\n",
       "      <td>16.813203</td>\n",
       "      <td>8.782110</td>\n",
       "      <td>0</td>\n",
       "      <td>3</td>\n",
       "    </tr>\n",
       "    <tr>\n",
       "      <th>1</th>\n",
       "      <td>11.839701</td>\n",
       "      <td>13.099428</td>\n",
       "      <td>7.621837</td>\n",
       "      <td>0</td>\n",
       "      <td>3</td>\n",
       "    </tr>\n",
       "    <tr>\n",
       "      <th>2</th>\n",
       "      <td>7.060007</td>\n",
       "      <td>5.979102</td>\n",
       "      <td>-5.239437</td>\n",
       "      <td>0</td>\n",
       "      <td>4</td>\n",
       "    </tr>\n",
       "    <tr>\n",
       "      <th>3</th>\n",
       "      <td>7.060007</td>\n",
       "      <td>5.979102</td>\n",
       "      <td>-5.239437</td>\n",
       "      <td>0</td>\n",
       "      <td>1</td>\n",
       "    </tr>\n",
       "    <tr>\n",
       "      <th>4</th>\n",
       "      <td>16.584003</td>\n",
       "      <td>14.252640</td>\n",
       "      <td>7.870681</td>\n",
       "      <td>0</td>\n",
       "      <td>3</td>\n",
       "    </tr>\n",
       "    <tr>\n",
       "      <th>...</th>\n",
       "      <td>...</td>\n",
       "      <td>...</td>\n",
       "      <td>...</td>\n",
       "      <td>...</td>\n",
       "      <td>...</td>\n",
       "    </tr>\n",
       "    <tr>\n",
       "      <th>6362615</th>\n",
       "      <td>28.314353</td>\n",
       "      <td>18.140311</td>\n",
       "      <td>-5.239437</td>\n",
       "      <td>0</td>\n",
       "      <td>1</td>\n",
       "    </tr>\n",
       "    <tr>\n",
       "      <th>6362616</th>\n",
       "      <td>42.770527</td>\n",
       "      <td>24.314191</td>\n",
       "      <td>-5.239437</td>\n",
       "      <td>0</td>\n",
       "      <td>4</td>\n",
       "    </tr>\n",
       "    <tr>\n",
       "      <th>6362617</th>\n",
       "      <td>42.770527</td>\n",
       "      <td>24.314191</td>\n",
       "      <td>-5.239437</td>\n",
       "      <td>0</td>\n",
       "      <td>1</td>\n",
       "    </tr>\n",
       "    <tr>\n",
       "      <th>6362618</th>\n",
       "      <td>32.352568</td>\n",
       "      <td>19.977046</td>\n",
       "      <td>-5.239437</td>\n",
       "      <td>0</td>\n",
       "      <td>4</td>\n",
       "    </tr>\n",
       "    <tr>\n",
       "      <th>6362619</th>\n",
       "      <td>32.352568</td>\n",
       "      <td>19.977046</td>\n",
       "      <td>-5.239437</td>\n",
       "      <td>0</td>\n",
       "      <td>1</td>\n",
       "    </tr>\n",
       "  </tbody>\n",
       "</table>\n",
       "<p>6362620 rows × 5 columns</p>\n",
       "</div>"
      ],
      "text/plain": [
       "         box_amount  box_oldbalanceOrg  box_newbalanceOrig  isFlaggedFraud  \\\n",
       "0         16.100764          16.813203            8.782110               0   \n",
       "1         11.839701          13.099428            7.621837               0   \n",
       "2          7.060007           5.979102           -5.239437               0   \n",
       "3          7.060007           5.979102           -5.239437               0   \n",
       "4         16.584003          14.252640            7.870681               0   \n",
       "...             ...                ...                 ...             ...   \n",
       "6362615   28.314353          18.140311           -5.239437               0   \n",
       "6362616   42.770527          24.314191           -5.239437               0   \n",
       "6362617   42.770527          24.314191           -5.239437               0   \n",
       "6362618   32.352568          19.977046           -5.239437               0   \n",
       "6362619   32.352568          19.977046           -5.239437               0   \n",
       "\n",
       "         type_l  \n",
       "0             3  \n",
       "1             3  \n",
       "2             4  \n",
       "3             1  \n",
       "4             3  \n",
       "...         ...  \n",
       "6362615       1  \n",
       "6362616       4  \n",
       "6362617       1  \n",
       "6362618       4  \n",
       "6362619       1  \n",
       "\n",
       "[6362620 rows x 5 columns]"
      ]
     },
     "execution_count": 21,
     "metadata": {},
     "output_type": "execute_result"
    }
   ],
   "source": [
    "X"
   ]
  },
  {
   "cell_type": "code",
   "execution_count": 22,
   "id": "dbaefd67",
   "metadata": {},
   "outputs": [
    {
     "data": {
      "text/plain": [
       "0          0\n",
       "1          0\n",
       "2          1\n",
       "3          1\n",
       "4          0\n",
       "          ..\n",
       "6362615    1\n",
       "6362616    1\n",
       "6362617    1\n",
       "6362618    1\n",
       "6362619    1\n",
       "Name: isFraud, Length: 6362620, dtype: int64"
      ]
     },
     "execution_count": 22,
     "metadata": {},
     "output_type": "execute_result"
    }
   ],
   "source": [
    "y"
   ]
  },
  {
   "cell_type": "code",
   "execution_count": 23,
   "id": "77199f6f",
   "metadata": {},
   "outputs": [
    {
     "data": {
      "text/plain": [
       "0    6354407\n",
       "1       8213\n",
       "Name: isFraud, dtype: int64"
      ]
     },
     "execution_count": 23,
     "metadata": {},
     "output_type": "execute_result"
    }
   ],
   "source": [
    "df['isFraud'].value_counts()"
   ]
  },
  {
   "cell_type": "code",
   "execution_count": 24,
   "id": "e920df1d",
   "metadata": {},
   "outputs": [],
   "source": [
    "#It is completely contain imbalanced data.Here I applied oversampling and increase the data."
   ]
  },
  {
   "cell_type": "code",
   "execution_count": 25,
   "id": "84ecf383",
   "metadata": {},
   "outputs": [
    {
     "data": {
      "text/plain": [
       "0    6354407\n",
       "1    6354407\n",
       "Name: isFraud, dtype: int64"
      ]
     },
     "execution_count": 25,
     "metadata": {},
     "output_type": "execute_result"
    }
   ],
   "source": [
    "#imbalance dataset\n",
    "from imblearn.over_sampling import SMOTE\n",
    "SMOTE=SMOTE()\n",
    "X_new,y_new = SMOTE.fit_resample(X,y)\n",
    "y_new.value_counts()"
   ]
  },
  {
   "cell_type": "code",
   "execution_count": 26,
   "id": "5b01d6a1",
   "metadata": {},
   "outputs": [],
   "source": [
    "#train Test split\n",
    "from sklearn.model_selection import train_test_split\n",
    "X_train,X_test,y_train,y_test=train_test_split(X,y,test_size=0.2,random_state=9)"
   ]
  },
  {
   "cell_type": "code",
   "execution_count": 27,
   "id": "efdf524b",
   "metadata": {},
   "outputs": [],
   "source": [
    "#scaling\n",
    "from sklearn.preprocessing import StandardScaler\n",
    "ss=StandardScaler()\n",
    "X=ss.fit_transform(X)\n"
   ]
  },
  {
   "cell_type": "code",
   "execution_count": 28,
   "id": "0f5a39d6",
   "metadata": {},
   "outputs": [],
   "source": [
    "#pca:\n",
    "from sklearn.decomposition import PCA\n",
    "pca_model=PCA(n_components=0.95)\n",
    "\n",
    "X_train_pca=pca_model.fit_transform(X_train)\n",
    "X_test_pca=pca_model.fit_transform(X_test)"
   ]
  },
  {
   "cell_type": "code",
   "execution_count": 29,
   "id": "05536f12",
   "metadata": {},
   "outputs": [
    {
     "data": {
      "text/plain": [
       "array([0.71203767, 0.20340644, 0.07749088])"
      ]
     },
     "execution_count": 29,
     "metadata": {},
     "output_type": "execute_result"
    }
   ],
   "source": [
    "pca_model.explained_variance_ratio_"
   ]
  },
  {
   "cell_type": "code",
   "execution_count": 30,
   "id": "85efd223",
   "metadata": {},
   "outputs": [
    {
     "data": {
      "text/plain": [
       "(5090096, 3)"
      ]
     },
     "execution_count": 30,
     "metadata": {},
     "output_type": "execute_result"
    }
   ],
   "source": [
    "X_train_pca.shape"
   ]
  },
  {
   "cell_type": "code",
   "execution_count": 31,
   "id": "23bb27c6",
   "metadata": {},
   "outputs": [
    {
     "data": {
      "text/plain": [
       "array([[-14.20800126,  -3.2918747 ,   0.85340555],\n",
       "       [ 17.91226194,   0.949824  ,   0.43000725],\n",
       "       [ -3.73243576,   5.1392269 ,  -3.42217339],\n",
       "       ...,\n",
       "       [  0.12018674,   7.15756447,  -5.33642527],\n",
       "       [-14.26189958,  -0.35908159,   1.81526396],\n",
       "       [-14.24330335,  -5.90501261,  -0.12769475]])"
      ]
     },
     "execution_count": 31,
     "metadata": {},
     "output_type": "execute_result"
    }
   ],
   "source": [
    "X_train_pca"
   ]
  },
  {
   "cell_type": "code",
   "execution_count": 32,
   "id": "8edfc17f",
   "metadata": {},
   "outputs": [
    {
     "data": {
      "text/html": [
       "<div>\n",
       "<style scoped>\n",
       "    .dataframe tbody tr th:only-of-type {\n",
       "        vertical-align: middle;\n",
       "    }\n",
       "\n",
       "    .dataframe tbody tr th {\n",
       "        vertical-align: top;\n",
       "    }\n",
       "\n",
       "    .dataframe thead th {\n",
       "        text-align: right;\n",
       "    }\n",
       "</style>\n",
       "<table border=\"1\" class=\"dataframe\">\n",
       "  <thead>\n",
       "    <tr style=\"text-align: right;\">\n",
       "      <th></th>\n",
       "      <th>0</th>\n",
       "      <th>1</th>\n",
       "      <th>2</th>\n",
       "    </tr>\n",
       "  </thead>\n",
       "  <tbody>\n",
       "    <tr>\n",
       "      <th>0</th>\n",
       "      <td>-14.208001</td>\n",
       "      <td>-3.291875</td>\n",
       "      <td>0.853406</td>\n",
       "    </tr>\n",
       "    <tr>\n",
       "      <th>1</th>\n",
       "      <td>17.912262</td>\n",
       "      <td>0.949824</td>\n",
       "      <td>0.430007</td>\n",
       "    </tr>\n",
       "    <tr>\n",
       "      <th>2</th>\n",
       "      <td>-3.732436</td>\n",
       "      <td>5.139227</td>\n",
       "      <td>-3.422173</td>\n",
       "    </tr>\n",
       "    <tr>\n",
       "      <th>3</th>\n",
       "      <td>13.045556</td>\n",
       "      <td>-3.677539</td>\n",
       "      <td>0.568804</td>\n",
       "    </tr>\n",
       "    <tr>\n",
       "      <th>4</th>\n",
       "      <td>-14.223903</td>\n",
       "      <td>-6.960672</td>\n",
       "      <td>-0.473916</td>\n",
       "    </tr>\n",
       "    <tr>\n",
       "      <th>...</th>\n",
       "      <td>...</td>\n",
       "      <td>...</td>\n",
       "      <td>...</td>\n",
       "    </tr>\n",
       "    <tr>\n",
       "      <th>5090091</th>\n",
       "      <td>9.499226</td>\n",
       "      <td>4.567491</td>\n",
       "      <td>5.559863</td>\n",
       "    </tr>\n",
       "    <tr>\n",
       "      <th>5090092</th>\n",
       "      <td>-14.327400</td>\n",
       "      <td>3.205023</td>\n",
       "      <td>2.984172</td>\n",
       "    </tr>\n",
       "    <tr>\n",
       "      <th>5090093</th>\n",
       "      <td>0.120187</td>\n",
       "      <td>7.157564</td>\n",
       "      <td>-5.336425</td>\n",
       "    </tr>\n",
       "    <tr>\n",
       "      <th>5090094</th>\n",
       "      <td>-14.261900</td>\n",
       "      <td>-0.359082</td>\n",
       "      <td>1.815264</td>\n",
       "    </tr>\n",
       "    <tr>\n",
       "      <th>5090095</th>\n",
       "      <td>-14.243303</td>\n",
       "      <td>-5.905013</td>\n",
       "      <td>-0.127695</td>\n",
       "    </tr>\n",
       "  </tbody>\n",
       "</table>\n",
       "<p>5090096 rows × 3 columns</p>\n",
       "</div>"
      ],
      "text/plain": [
       "                 0         1         2\n",
       "0       -14.208001 -3.291875  0.853406\n",
       "1        17.912262  0.949824  0.430007\n",
       "2        -3.732436  5.139227 -3.422173\n",
       "3        13.045556 -3.677539  0.568804\n",
       "4       -14.223903 -6.960672 -0.473916\n",
       "...            ...       ...       ...\n",
       "5090091   9.499226  4.567491  5.559863\n",
       "5090092 -14.327400  3.205023  2.984172\n",
       "5090093   0.120187  7.157564 -5.336425\n",
       "5090094 -14.261900 -0.359082  1.815264\n",
       "5090095 -14.243303 -5.905013 -0.127695\n",
       "\n",
       "[5090096 rows x 3 columns]"
      ]
     },
     "execution_count": 32,
     "metadata": {},
     "output_type": "execute_result"
    }
   ],
   "source": [
    "a=pd.DataFrame(X_train_pca)\n",
    "a"
   ]
  },
  {
   "cell_type": "code",
   "execution_count": 33,
   "id": "9ae6e63e",
   "metadata": {},
   "outputs": [
    {
     "data": {
      "text/html": [
       "<div>\n",
       "<style scoped>\n",
       "    .dataframe tbody tr th:only-of-type {\n",
       "        vertical-align: middle;\n",
       "    }\n",
       "\n",
       "    .dataframe tbody tr th {\n",
       "        vertical-align: top;\n",
       "    }\n",
       "\n",
       "    .dataframe thead th {\n",
       "        text-align: right;\n",
       "    }\n",
       "</style>\n",
       "<table border=\"1\" class=\"dataframe\">\n",
       "  <thead>\n",
       "    <tr style=\"text-align: right;\">\n",
       "      <th></th>\n",
       "      <th>0</th>\n",
       "      <th>1</th>\n",
       "      <th>2</th>\n",
       "    </tr>\n",
       "  </thead>\n",
       "  <tbody>\n",
       "    <tr>\n",
       "      <th>0</th>\n",
       "      <td>1.000000e+00</td>\n",
       "      <td>-4.417005e-16</td>\n",
       "      <td>1.430905e-16</td>\n",
       "    </tr>\n",
       "    <tr>\n",
       "      <th>1</th>\n",
       "      <td>-4.417005e-16</td>\n",
       "      <td>1.000000e+00</td>\n",
       "      <td>9.548438e-16</td>\n",
       "    </tr>\n",
       "    <tr>\n",
       "      <th>2</th>\n",
       "      <td>1.430905e-16</td>\n",
       "      <td>9.548438e-16</td>\n",
       "      <td>1.000000e+00</td>\n",
       "    </tr>\n",
       "  </tbody>\n",
       "</table>\n",
       "</div>"
      ],
      "text/plain": [
       "              0             1             2\n",
       "0  1.000000e+00 -4.417005e-16  1.430905e-16\n",
       "1 -4.417005e-16  1.000000e+00  9.548438e-16\n",
       "2  1.430905e-16  9.548438e-16  1.000000e+00"
      ]
     },
     "execution_count": 33,
     "metadata": {},
     "output_type": "execute_result"
    }
   ],
   "source": [
    "a.corr()"
   ]
  },
  {
   "cell_type": "markdown",
   "id": "889b170c",
   "metadata": {},
   "source": [
    "# Modelling:"
   ]
  },
  {
   "cell_type": "code",
   "execution_count": 34,
   "id": "e2b9ac26",
   "metadata": {},
   "outputs": [
    {
     "name": "stdout",
     "output_type": "stream",
     "text": [
      "test_accuracy: 0.9991057143126574\n",
      "train_accuracy: 0.9991002134340885\n",
      "cross_validation_score: 0.9990750665606306\n"
     ]
    }
   ],
   "source": [
    "#logistic regression\n",
    "#modelling\n",
    "from sklearn.linear_model import LogisticRegression\n",
    "log_reg=LogisticRegression()\n",
    "log_reg.fit(X_train_pca,y_train)\n",
    "\n",
    "#prediction\n",
    "test_pred=log_reg.predict(X_test_pca)\n",
    "train_pred=log_reg.predict(X_train_pca)\n",
    "\n",
    "#accuracy\n",
    "from sklearn.metrics import accuracy_score\n",
    "print(\"test_accuracy:\",accuracy_score(y_test,test_pred))\n",
    "print(\"train_accuracy:\",accuracy_score(y_train,train_pred))\n",
    "\n",
    "#crossvalidation score:\n",
    "from sklearn.model_selection import cross_val_score\n",
    "print(\"cross_validation_score:\",cross_val_score(log_reg,X,y,cv=5).mean())"
   ]
  },
  {
   "cell_type": "code",
   "execution_count": 35,
   "id": "4cb29eb8",
   "metadata": {},
   "outputs": [
    {
     "data": {
      "text/plain": [
       "array([[1270858,      17],\n",
       "       [   1121,     528]], dtype=int64)"
      ]
     },
     "execution_count": 35,
     "metadata": {},
     "output_type": "execute_result"
    }
   ],
   "source": [
    "#confusion matrix\n",
    "from sklearn.metrics import confusion_matrix\n",
    "confusion_matrix(y_test,test_pred)"
   ]
  },
  {
   "cell_type": "code",
   "execution_count": 36,
   "id": "359949c8",
   "metadata": {},
   "outputs": [
    {
     "name": "stdout",
     "output_type": "stream",
     "text": [
      "              precision    recall  f1-score   support\n",
      "\n",
      "           0       1.00      1.00      1.00   1270875\n",
      "           1       0.97      0.32      0.48      1649\n",
      "\n",
      "    accuracy                           1.00   1272524\n",
      "   macro avg       0.98      0.66      0.74   1272524\n",
      "weighted avg       1.00      1.00      1.00   1272524\n",
      "\n"
     ]
    }
   ],
   "source": [
    "#classification report\n",
    "from sklearn.metrics import classification_report\n",
    "print(classification_report(y_test,test_pred))"
   ]
  },
  {
   "cell_type": "markdown",
   "id": "a46100bb",
   "metadata": {},
   "source": [
    "So this is a good model and I applied both Random Forest and Boosting algorithm also in this dataset . For that case also I got the same accuracy and cv score. So I considered Logistic regression as it took less time than the other algorithm.\n",
    "\n",
    "In the given dataset if the 'newbalanceorig' is about to '0' after the transaction ,then it recognised the transaction as fraudulent. \n",
    "Yes these factors do make sense.In this case, abnormal transaction patterns,unusual transaction amounts can indicate that a customer is attempting to make fraudulent transactions.\n",
    "\n",
    "When a company updates its infrastructure,it should adopt several prevention measures to prevent fraudulent activity.It should implement multi-factor authentication,improving employee awarness and training. Suggest customer not to make '0' to their account balance .\n",
    "\n",
    "To determine if these prevention measures are working, the company can monitor several key metrics, including the number of fraudulent transactions detected, the false positive rate of the fraud detection tools, the customer satisfaction rate, and the overall revenue generated. Additionally, the company can conduct regular audits and risk assessments to identify any potential vulnerabilities in the system and to determine the effectiveness of the prevention measures implemented.\n"
   ]
  },
  {
   "cell_type": "code",
   "execution_count": 38,
   "id": "b1b446b0",
   "metadata": {},
   "outputs": [
    {
     "data": {
      "text/plain": [
       "['Financial_Fraud_detection.joblib']"
      ]
     },
     "execution_count": 38,
     "metadata": {},
     "output_type": "execute_result"
    }
   ],
   "source": [
    "#load a model\n",
    "from joblib import dump\n",
    "dump(log_reg,'Financial_Fraud_detection.joblib')"
   ]
  },
  {
   "cell_type": "code",
   "execution_count": null,
   "id": "cff91068",
   "metadata": {},
   "outputs": [],
   "source": []
  }
 ],
 "metadata": {
  "kernelspec": {
   "display_name": "Python 3 (ipykernel)",
   "language": "python",
   "name": "python3"
  },
  "language_info": {
   "codemirror_mode": {
    "name": "ipython",
    "version": 3
   },
   "file_extension": ".py",
   "mimetype": "text/x-python",
   "name": "python",
   "nbconvert_exporter": "python",
   "pygments_lexer": "ipython3",
   "version": "3.10.9"
  }
 },
 "nbformat": 4,
 "nbformat_minor": 5
}
